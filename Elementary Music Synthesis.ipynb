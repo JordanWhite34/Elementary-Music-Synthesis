{
 "cells": [
  {
   "cell_type": "markdown",
   "metadata": {},
   "source": [
    "\n",
    "## EE 342:  Lab 2 - Elementary Music Synthesis\n",
    "\n",
    "Instructor: Prof. Amy Orsborn\n",
    "\n",
    "Teaching Assistant: Christopher Yin\n",
    "\n",
    "**Overview**\n",
    "The purpose of this lab is to familiarize you with constructing and processing discrete-time sound signals. You will learn how to synthesize music notes and play them in in Python $+$ SciPy environment. You will concatenate a series of music notes into a small music piece, add volume variation to the music piece, overlap the adjacent notes to further make the music smoother and more realistic.\n",
    "\n",
    "Through this process, you will learn to perform the following sound synthesis tasks:\n",
    "- Generating musical notes\n",
    "- Improving the quality of the generated sound\n",
    "- Overlapping notes"
   ]
  },
  {
   "cell_type": "markdown",
   "metadata": {
    "pycharm": {
     "name": "#%% md\n"
    }
   },
   "source": [
    "**Team Members**: Jordan White"
   ]
  },
  {
   "cell_type": "code",
   "execution_count": 24,
   "metadata": {},
   "outputs": [
    {
     "name": "stdout",
     "output_type": "stream",
     "text": [
      "Requirement already satisfied: sounddevice in /Users/jordanwhite/opt/anaconda3/lib/python3.8/site-packages (0.4.4)\r\n",
      "Requirement already satisfied: CFFI>=1.0 in /Users/jordanwhite/opt/anaconda3/lib/python3.8/site-packages (from sounddevice) (1.14.5)\r\n",
      "Requirement already satisfied: pycparser in /Users/jordanwhite/opt/anaconda3/lib/python3.8/site-packages (from CFFI>=1.0->sounddevice) (2.20)\r\n"
     ]
    }
   ],
   "source": [
    "!pip install sounddevice\n",
    "import numpy as np\n",
    "import sounddevice as sd\n",
    "import matplotlib.pyplot as plt\n",
    "from scipy.signal import hilbert"
   ]
  },
  {
   "cell_type": "code",
   "execution_count": 25,
   "metadata": {},
   "outputs": [],
   "source": [
    "# SimpleAudio constants.\n",
    "DEFAULT_SAMPLE_RATE = 8000\n",
    "DEFAULT_AMPLITUDE = 1\n",
    "\n",
    "# Musical note frequencies.\n",
    "A = 220.0\n",
    "B = A * 2 ** (2 / 12)\n",
    "C = A * 2 ** (3 / 12)\n",
    "E = A * 2 ** (7 / 12)"
   ]
  },
  {
   "cell_type": "markdown",
   "metadata": {},
   "source": [
    "## Task 1: Generating Musical Notes"
   ]
  },
  {
   "cell_type": "code",
   "execution_count": 26,
   "metadata": {},
   "outputs": [],
   "source": [
    "def play(data, sample_rate=DEFAULT_SAMPLE_RATE):\n",
    "    \"\"\"Plays audio data.\n",
    "\n",
    "    Args:\n",
    "        data: The audio data to be played (as a NumPy array).\n",
    "        sample_rate: The sample rate.\n",
    "    \"\"\"\n",
    "    sd.play((data*32767).astype('int16'),sample_rate)"
   ]
  },
  {
   "cell_type": "code",
   "execution_count": 36,
   "metadata": {},
   "outputs": [],
   "source": [
    "# defining note function \n",
    "def note(frequency, duration, amplitude=DEFAULT_AMPLITUDE, sample_rate=DEFAULT_SAMPLE_RATE):\n",
    "    \"\"\"Generates samples of a musical note.\n",
    "\n",
    "    Samples are generated according to following equation:\n",
    "\n",
    "        y(t) = A sin(wt)\n",
    "\n",
    "    Args:\n",
    "        frequency: The frequency of the note in Hz.\n",
    "        duration: The length of the note in seconds.\n",
    "        amplitude: The amplitude of the note.\n",
    "        sample_rate: The sample rate in Hz.\n",
    "\n",
    "    Returns:\n",
    "        An array of samples representing the note.\n",
    "    \"\"\"\n",
    "    sample_count = int(duration * sample_rate)\n",
    "    note_sig = np.zeros(sample_count)\n",
    "    t = np.linspace(0, duration, sample_count)\n",
    "    \n",
    "    for i in range(sample_count):\n",
    "        note_sig[i] = amplitude * np.sin(t[i]*frequency)\n",
    "        \n",
    "    return note_sig"
   ]
  },
  {
   "cell_type": "code",
   "execution_count": 37,
   "metadata": {},
   "outputs": [],
   "source": [
    "# Use your function to generate the musical score for the Scarborough Fair.\n",
    "sample_per = 4000 # In this Lab, use a duration of 4,000 samples for 1 count.\n",
    "\n",
    "whole_t = 4 * sample_per / DEFAULT_SAMPLE_RATE\n",
    "half_t = whole_t / 2\n",
    "quarter_t = half_t / 2\n",
    "\n",
    "A_freq = 2 * np.pi * 220\n",
    "B_freq = 2 * np.pi * 220 * (2 ** (2/12))\n",
    "C_freq = 2 * np.pi * 220 * (2 ** (3/12))\n",
    "D_freq = 2 * np.pi * 220 * (2 ** (5/12))\n",
    "E_freq = 2 * np.pi * 220 * (2 ** (7/12))\n",
    "F_freq = 2 * np.pi * 220 * (2 ** (8/12))\n",
    "G_freq = 2 * np.pi * 220 * (2 ** (10/12))\n",
    "A_freq_2 = 2 * 220\n",
    "\n",
    "score = [[A_freq, half_t], [A_freq, quarter_t], [E_freq, quarter_t], \n",
    "         [E_freq, quarter_t], [E_freq, quarter_t], [B_freq, quarter_t], \n",
    "         [C_freq, quarter_t], [B_freq, quarter_t], [A_freq, whole_t]]\n",
    "\n",
    "note_list = [note(freq, dur) for [freq, dur] in score]\n",
    "rest_sig = np.zeros(500).tolist()\n",
    "\n",
    "# making the song with pauses after each note\n",
    "song = np.append(np.array([]), note_list[0])\n",
    "\n",
    "for n in range (1, len(note_list)):\n",
    "    song = np.append(song, rest_sig)\n",
    "    song = np.append(song, note_list[n])\n",
    "\n",
    "# Play the audio sample\n",
    "play(song)"
   ]
  },
  {
   "cell_type": "markdown",
   "metadata": {},
   "source": [
    "## Task 2: Volume Variations"
   ]
  },
  {
   "cell_type": "code",
   "execution_count": 38,
   "metadata": {},
   "outputs": [],
   "source": [
    "### This code is provided to you. ###\n",
    "\n",
    "def display_envelope(signal,duration=-1,sample_rate=DEFAULT_SAMPLE_RATE):\n",
    "\n",
    "    \"\"\"\n",
    "    Plots the envelope of a duration of the generated audio. \n",
    "\n",
    "    Args:\n",
    "        signal: The audio signal to be displayed (as a NumPy array).\n",
    "        duration: The length of hte signal to be displayed. -1 to display entire signal.\n",
    "        sample_rate: The sample rate.\n",
    "    \"\"\"\n",
    "    \n",
    "    from scipy.signal import hilbert\n",
    "    \n",
    "    if duration < 0:\n",
    "        duration = len(signal)/sample_rate\n",
    "    \n",
    "    n = int(duration*sample_rate)\n",
    "    \n",
    "    analytic_signal = hilbert(signal[0:n])\n",
    "    amplitude_envelope = np.abs(analytic_signal)\n",
    "        \n",
    "    t = np.linspace(0,duration,len(amplitude_envelope))\n",
    "    \n",
    "    plt.figure()    \n",
    "    plt.plot(t,amplitude_envelope)\n",
    "    plt.show()"
   ]
  },
  {
   "cell_type": "code",
   "execution_count": 62,
   "metadata": {},
   "outputs": [],
   "source": [
    "# Volume Variation Function Attack, Decay, Sustain and Release (ADSR)\n",
    "def adsr(note):\n",
    "    \"\"\"Generates an ADSR envelope and applies it to a note.\n",
    "\n",
    "        A: Linear increase to 60% amplitude over 20% length.\n",
    "        D: Linear decrease to 50% amplitude over 4% length.\n",
    "        S: Constant 50% amplitude over 40% length.\n",
    "        R: Linear decrease to 0% amplitude over 36% length.\n",
    "\n",
    "    Args:\n",
    "        note: The note to be modified.\n",
    "\n",
    "    Returns:\n",
    "        A note that has been scaled by the ADSR envelope.\n",
    "    \"\"\"\n",
    "    n = len(note)\n",
    "    \n",
    "    a_t = int(.2*n)\n",
    "    d_t  = int(.05*n)\n",
    "    s_t  = int(.6*n)\n",
    "    r_t  = int(.15*n)\n",
    "    \n",
    "    a = np.linspace(0, .7, a_t)\n",
    "    d = np.linspace(-1/d_t + .7, .5, d_t)\n",
    "    s = .5 * np.ones(s_t)\n",
    "    r = np.linspace(.5, 0, r_t)\n",
    "    \n",
    "    adsr_comb = np.concatenate((a,d,s,r))\n",
    "    filtered_note = note*adsr_comb\n",
    "    \n",
    "    return filtered_note"
   ]
  },
  {
   "cell_type": "code",
   "execution_count": 63,
   "metadata": {},
   "outputs": [
    {
     "data": {
      "image/png": "[encoded data removed]",
      "text/plain": [
       "<Figure size 432x288 with 1 Axes>"
      ]
     },
     "metadata": {
      "needs_background": "light"
     },
     "output_type": "display_data"
    }
   ],
   "source": [
    "# Use your function Apply an ADSR envelope to each note.\n",
    "note_list2 = note_list.copy()\n",
    "note_list2f = note_list2.copy()\n",
    "\n",
    "for n in range(len(note_list2)):\n",
    "    note_list2f[n] = adsr(note_list2[n])\n",
    "    \n",
    "filtered = np.concatenate(note_list2f)\n",
    "\n",
    "# Play the audio sample\n",
    "play(filtered)\n",
    "\n",
    "# Display the envelope\n",
    "display_envelope(filtered)"
   ]
  },
  {
   "cell_type": "markdown",
   "metadata": {
    "pycharm": {
     "name": "#%% md\n"
    }
   },
   "source": [
    "**Discussion Question:** Instead of enveloping with the ADSR function, how would you envelope with a decaying exponential?\n",
    "\n",
    "We would get each note in the song and apply a decaying exponential function to them, so instead of with the ADSR where we applied multiple linear transformation to a note, we would only need to multiply the sinusoid by a decaying exponential"
   ]
  },
  {
   "cell_type": "markdown",
   "metadata": {},
   "source": [
    "**Optional:** Implement a decaying exponential envelope."
   ]
  },
  {
   "cell_type": "markdown",
   "metadata": {},
   "source": [
    "## Task 3: Overlapping Notes"
   ]
  },
  {
   "cell_type": "code",
   "execution_count": 64,
   "metadata": {},
   "outputs": [],
   "source": [
    "def overlap(notes, offset):\n",
    "    \"\"\"Joins notes together with overlap between consecutive notes.\n",
    "\n",
    "    Args:\n",
    "        notes: An array of notes to be joined.\n",
    "        offset: The amount of allowable overlap between consecutive notes.\n",
    "\n",
    "    Returns:\n",
    "        A score made from the input notes.\n",
    "    \"\"\"\n",
    "    # Enter code here\n",
    "    music = notes[0]\n",
    "    for n in range(1, len(notes)):\n",
    "        cur = notes[n]\n",
    "        adjacent = cur[offset:]\n",
    "        for i in range(offset):\n",
    "            music[len(music) - offset + i] += min(cur[i], 1)\n",
    "        music = np.append(music, adjacent)\n",
    "    return music"
   ]
  },
  {
   "cell_type": "code",
   "execution_count": 65,
   "metadata": {},
   "outputs": [
    {
     "data": {
      "image/png": "[encoded data removed]",
      "text/plain": [
       "<Figure size 432x288 with 1 Axes>"
      ]
     },
     "metadata": {
      "needs_background": "light"
     },
     "output_type": "display_data"
    }
   ],
   "source": [
    "# Smooth the sound by overlapping the notes.\n",
    "note_copy_again = note_list2f.copy()\n",
    "\n",
    "overlapped = overlap(note_copy_again, 500)\n",
    "\n",
    "# Play the audio sample\n",
    "play(overlapped)\n",
    "\n",
    "# Display the envelope\n",
    "display_envelope(overlapped)"
   ]
  },
  {
   "cell_type": "code",
   "execution_count": null,
   "metadata": {},
   "outputs": [],
   "source": []
  }
 ],
 "metadata": {
  "kernelspec": {
   "display_name": "Python 3",
   "language": "python",
   "name": "python3"
  },
  "language_info": {
   "codemirror_mode": {
    "name": "ipython",
    "version": 3
   },
   "file_extension": ".py",
   "mimetype": "text/x-python",
   "name": "python",
   "nbconvert_exporter": "python",
   "pygments_lexer": "ipython3",
   "version": "3.8.8"
  },
  "varInspector": {
   "cols": {
    "lenName": 16,
    "lenType": 16,
    "lenVar": 40
   },
   "kernels_config": {
    "python": {
     "delete_cmd_postfix": "",
     "delete_cmd_prefix": "del ",
     "library": "var_list.py",
     "varRefreshCmd": "print(var_dic_list())"
    },
    "r": {
     "delete_cmd_postfix": ") ",
     "delete_cmd_prefix": "rm(",
     "library": "var_list.r",
     "varRefreshCmd": "cat(var_dic_list()) "
    }
   },
   "position": {
    "height": "394.4px",
    "left": "885px",
    "right": "20px",
    "top": "120px",
    "width": "361.4px"
   },
   "types_to_exclude": [
    "module",
    "function",
    "builtin_function_or_method",
    "instance",
    "_Feature"
   ],
   "window_display": false
  }
 },
 "nbformat": 4,
 "nbformat_minor": 2
}
